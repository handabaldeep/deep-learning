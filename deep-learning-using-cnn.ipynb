{
 "cells": [
  {
   "cell_type": "markdown",
   "metadata": {},
   "source": [
    "## Set up model \n",
    "\n",
    "Set up a Keras model (you may find it helpful to keep it simple and fast to train). Train on an intermediate-sized dataset (if you are using MNIST, say 2000 or 4000). \n",
    "\n",
    "\n",
    "Plot the loss and error rate as a function of training epochs. \n",
    "\n",
    "\n",
    "###  1.  Assessment of initial model: The Percolation Dataset\n",
    "\n",
    "Ensure that your model is complex enough to *overfit* the training data: that is the loss/error-rate on the training set should be below your target loss/error-rate, and the loss/error-rate on the validation set should be higher than this (preferably higher than your target error-rate). "
   ]
  },
  {
   "cell_type": "code",
   "execution_count": 1,
   "metadata": {},
   "outputs": [],
   "source": [
    "import numpy as np\n",
    "\n",
    "import matplotlib.pyplot as plt\n",
    "\n",
    "%matplotlib inline\n",
    "from random import randint"
   ]
  },
  {
   "cell_type": "code",
   "execution_count": 2,
   "metadata": {},
   "outputs": [],
   "source": [
    "def percolate( mat ):\n",
    "    \"\"\"\n",
    "    Returns True if there is a percolation path of 1s from col 0 col -1 of a matrix of 0s and 1s\n",
    "    \"\"\"\n",
    "    nrows = mat.shape[0]\n",
    "    ncols = mat.shape[1]\n",
    "    frontier = set()\n",
    "    for i in range(0,nrows):\n",
    "        if mat[i,0]:\n",
    "            frontier.add( (i,0) )\n",
    "    explored = set()\n",
    "    flag = False # this will be returned if the frontier becomes empty without finding a\n",
    "                 # filled pixel in the right-most column\n",
    "    while frontier: # frontier evaluates to True in this context if it is non-empty\n",
    "        r,c = frontier.pop()\n",
    "        explored.add( (r,c) )\n",
    "        if r > 0: # North\n",
    "            if mat[r-1,c]:\n",
    "                coords = (r-1,c)\n",
    "                if coords not in explored: \n",
    "                    if coords not in frontier: # this order of testing is necessary since each element of explored has been in frontier\n",
    "                        frontier.add( coords )\n",
    "        if c < ncols-1: # East\n",
    "            if mat[r,c+1]:\n",
    "                if c+1 == mat.shape[1]-1 : # Hurray, we have percolated to the last column\n",
    "                    flag = True\n",
    "                    break\n",
    "                coords = (r,c+1)\n",
    "                if coords not in explored: \n",
    "                    if coords not in frontier: # this order of testing is necessary since each element of explored has been in frontier\n",
    "                        frontier.add( coords )\n",
    "        if r < nrows-1: # South\n",
    "            if mat[r+1,c]:\n",
    "                coords = (r+1,c)\n",
    "                if coords not in explored: \n",
    "                    if coords not in frontier: # this order of testing is necessary since each element of explored has been in frontier\n",
    "                        frontier.add( coords )\n",
    "        if c > 0: # West\n",
    "            if mat[r,c-1]:\n",
    "                coords = (r,c-1)\n",
    "                if coords not in explored: \n",
    "                    if coords not in frontier: # this order of testing is necessary since each element of explored has been in frontier\n",
    "                        frontier.add( coords )\n",
    "    return flag"
   ]
  },
  {
   "cell_type": "code",
   "execution_count": 3,
   "metadata": {},
   "outputs": [],
   "source": [
    "def make_percolation_dataset(side=8,threshold=0.42,n_examples=10):\n",
    "    \"\"\"\n",
    "    This function generates an array of random images, in the form needed for Keras, and \n",
    "    then labels them as percolating or not, using the percolate function. Roughly 50% of the\n",
    "    images will have class 1 (percolating), so the dataset is likely to be reasonably balanced. \n",
    "    \"\"\"\n",
    "    X_data = (np.random.random([n_examples,side,side,1]) > threshold).astype(float) \n",
    "    Y_data = np.zeros([n_examples,1])\n",
    "    for i in range(0,n_examples):\n",
    "        if percolate(X_data[i,:,:,0]):\n",
    "            Y_data[i,0] = 1\n",
    "    return (X_data,Y_data)"
   ]
  },
  {
   "cell_type": "code",
   "execution_count": 4,
   "metadata": {},
   "outputs": [],
   "source": [
    "from tensorflow.python.keras.layers import Input, Dense, Dropout, Flatten, Conv2D \n",
    "\n",
    "from tensorflow.python.keras.models import Sequential\n",
    "\n",
    "import tensorflow.python.keras.regularizers\n",
    "from tensorflow.python.keras.models import Sequential\n",
    "from tensorflow.python.keras.layers import Dense, Dropout, Flatten\n",
    "from tensorflow.python.keras.layers import Conv2D, MaxPooling2D\n",
    "from tensorflow.python.keras.optimizers import SGD\n",
    "from tensorflow.python.keras.regularizers import l1,l2"
   ]
  },
  {
   "cell_type": "code",
   "execution_count": 5,
   "metadata": {},
   "outputs": [],
   "source": [
    "training_set,training_classes = make_percolation_dataset(side=8, threshold=0.42, n_examples=32000)\n",
    "validation_set, validation_classes = make_percolation_dataset(side=8, threshold=0.42, n_examples=10000)"
   ]
  },
  {
   "cell_type": "code",
   "execution_count": 6,
   "metadata": {},
   "outputs": [
    {
     "data": {
      "text/plain": [
       "15377.0"
      ]
     },
     "execution_count": 6,
     "metadata": {},
     "output_type": "execute_result"
    }
   ],
   "source": [
    "np.sum(training_classes)"
   ]
  },
  {
   "cell_type": "code",
   "execution_count": 7,
   "metadata": {},
   "outputs": [
    {
     "name": "stdout",
     "output_type": "stream",
     "text": [
      "_________________________________________________________________\n",
      "Layer (type)                 Output Shape              Param #   \n",
      "=================================================================\n",
      "flatten (Flatten)            (None, 64)                0         \n",
      "_________________________________________________________________\n",
      "dense (Dense)                (None, 300)               19500     \n",
      "_________________________________________________________________\n",
      "dense_1 (Dense)              (None, 1)                 301       \n",
      "=================================================================\n",
      "Total params: 19,801\n",
      "Trainable params: 19,801\n",
      "Non-trainable params: 0\n",
      "_________________________________________________________________\n"
     ]
    }
   ],
   "source": [
    "model_dense = Sequential()\n",
    "model_dense.add(Flatten(input_shape=(8,8,1))) # converts each image to a 1D array of values\n",
    "model_dense.add(Dense(300,activation='relu'))\n",
    "model_dense.add(Dense(1,activation='sigmoid'))\n",
    "model_dense.summary()\n",
    "model_dense.compile(optimizer='adam',loss='binary_crossentropy',metrics=['accuracy'])"
   ]
  },
  {
   "cell_type": "code",
   "execution_count": 8,
   "metadata": {},
   "outputs": [
    {
     "name": "stdout",
     "output_type": "stream",
     "text": [
      "Train on 8000 samples, validate on 10000 samples\n",
      "Epoch 1/50\n",
      "8000/8000 [==============================] - 3s 314us/step - loss: 0.6633 - acc: 0.5998 - val_loss: 0.6302 - val_acc: 0.6654\n",
      "Epoch 2/50\n",
      "8000/8000 [==============================] - 1s 106us/step - loss: 0.6110 - acc: 0.6783 - val_loss: 0.6206 - val_acc: 0.6459\n",
      "Epoch 3/50\n",
      "8000/8000 [==============================] - 1s 106us/step - loss: 0.5720 - acc: 0.7199 - val_loss: 0.5715 - val_acc: 0.7156\n",
      "Epoch 4/50\n",
      "8000/8000 [==============================] - 1s 107us/step - loss: 0.5364 - acc: 0.7416 - val_loss: 0.5521 - val_acc: 0.7203\n",
      "Epoch 5/50\n",
      "8000/8000 [==============================] - 1s 109us/step - loss: 0.5024 - acc: 0.7634 - val_loss: 0.5582 - val_acc: 0.7074\n",
      "Epoch 6/50\n",
      "8000/8000 [==============================] - 1s 106us/step - loss: 0.4804 - acc: 0.7738 - val_loss: 0.5310 - val_acc: 0.7297\n",
      "Epoch 7/50\n",
      "8000/8000 [==============================] - 1s 107us/step - loss: 0.4559 - acc: 0.7868 - val_loss: 0.5274 - val_acc: 0.7384\n",
      "Epoch 8/50\n",
      "8000/8000 [==============================] - 1s 107us/step - loss: 0.4427 - acc: 0.7950 - val_loss: 0.5504 - val_acc: 0.7216\n",
      "Epoch 9/50\n",
      "8000/8000 [==============================] - 1s 105us/step - loss: 0.4277 - acc: 0.8016 - val_loss: 0.5283 - val_acc: 0.7355\n",
      "Epoch 10/50\n",
      "8000/8000 [==============================] - 1s 106us/step - loss: 0.4156 - acc: 0.8111 - val_loss: 0.5343 - val_acc: 0.7302\n",
      "Epoch 11/50\n",
      "8000/8000 [==============================] - 1s 107us/step - loss: 0.3999 - acc: 0.8215 - val_loss: 0.5250 - val_acc: 0.7426\n",
      "Epoch 12/50\n",
      "8000/8000 [==============================] - 1s 108us/step - loss: 0.3847 - acc: 0.8299 - val_loss: 0.5423 - val_acc: 0.7343\n",
      "Epoch 13/50\n",
      "8000/8000 [==============================] - 1s 108us/step - loss: 0.3684 - acc: 0.8414 - val_loss: 0.5338 - val_acc: 0.7419\n",
      "Epoch 14/50\n",
      "8000/8000 [==============================] - 1s 106us/step - loss: 0.3610 - acc: 0.8439 - val_loss: 0.5379 - val_acc: 0.7423\n",
      "Epoch 15/50\n",
      "8000/8000 [==============================] - 1s 110us/step - loss: 0.3436 - acc: 0.8546 - val_loss: 0.5462 - val_acc: 0.7347\n",
      "Epoch 16/50\n",
      "8000/8000 [==============================] - 1s 108us/step - loss: 0.3397 - acc: 0.8548 - val_loss: 0.5324 - val_acc: 0.7413\n",
      "Epoch 17/50\n",
      "8000/8000 [==============================] - 1s 108us/step - loss: 0.3171 - acc: 0.8676 - val_loss: 0.5537 - val_acc: 0.7323\n",
      "Epoch 18/50\n",
      "8000/8000 [==============================] - 1s 108us/step - loss: 0.3067 - acc: 0.8736 - val_loss: 0.5463 - val_acc: 0.7421\n",
      "Epoch 19/50\n",
      "8000/8000 [==============================] - 1s 106us/step - loss: 0.2967 - acc: 0.8796 - val_loss: 0.6192 - val_acc: 0.7174\n",
      "Epoch 20/50\n",
      "8000/8000 [==============================] - 1s 108us/step - loss: 0.2841 - acc: 0.8908 - val_loss: 0.5954 - val_acc: 0.7259\n",
      "Epoch 21/50\n",
      "8000/8000 [==============================] - 1s 108us/step - loss: 0.2734 - acc: 0.8914 - val_loss: 0.5801 - val_acc: 0.7313\n",
      "Epoch 22/50\n",
      "8000/8000 [==============================] - 1s 106us/step - loss: 0.2615 - acc: 0.8984 - val_loss: 0.5706 - val_acc: 0.7367\n",
      "Epoch 23/50\n",
      "8000/8000 [==============================] - 1s 109us/step - loss: 0.2523 - acc: 0.9074 - val_loss: 0.5710 - val_acc: 0.7399\n",
      "Epoch 24/50\n",
      "8000/8000 [==============================] - 1s 108us/step - loss: 0.2380 - acc: 0.9120 - val_loss: 0.5959 - val_acc: 0.7328\n",
      "Epoch 25/50\n",
      "8000/8000 [==============================] - 1s 111us/step - loss: 0.2287 - acc: 0.9161 - val_loss: 0.6110 - val_acc: 0.7289\n",
      "Epoch 26/50\n",
      "8000/8000 [==============================] - 1s 108us/step - loss: 0.2215 - acc: 0.9212 - val_loss: 0.6045 - val_acc: 0.7340\n",
      "Epoch 27/50\n",
      "8000/8000 [==============================] - 1s 106us/step - loss: 0.2088 - acc: 0.9294 - val_loss: 0.6162 - val_acc: 0.7384\n",
      "Epoch 28/50\n",
      "8000/8000 [==============================] - 1s 106us/step - loss: 0.2027 - acc: 0.9319 - val_loss: 0.6179 - val_acc: 0.7358\n",
      "Epoch 29/50\n",
      "8000/8000 [==============================] - 1s 106us/step - loss: 0.1955 - acc: 0.9316 - val_loss: 0.6630 - val_acc: 0.7299\n",
      "Epoch 30/50\n",
      "8000/8000 [==============================] - 1s 108us/step - loss: 0.1843 - acc: 0.9389 - val_loss: 0.6335 - val_acc: 0.7364\n",
      "Epoch 31/50\n",
      "8000/8000 [==============================] - 1s 107us/step - loss: 0.1740 - acc: 0.9473 - val_loss: 0.6414 - val_acc: 0.7330\n",
      "Epoch 32/50\n",
      "8000/8000 [==============================] - 1s 108us/step - loss: 0.1694 - acc: 0.9481 - val_loss: 0.6656 - val_acc: 0.7301\n",
      "Epoch 33/50\n",
      "8000/8000 [==============================] - 1s 108us/step - loss: 0.1589 - acc: 0.9524 - val_loss: 0.6661 - val_acc: 0.7351\n",
      "Epoch 34/50\n",
      "8000/8000 [==============================] - 1s 105us/step - loss: 0.1509 - acc: 0.9569 - val_loss: 0.6916 - val_acc: 0.7326\n",
      "Epoch 35/50\n",
      "8000/8000 [==============================] - 1s 106us/step - loss: 0.1520 - acc: 0.9539 - val_loss: 0.6779 - val_acc: 0.7314\n",
      "Epoch 36/50\n",
      "8000/8000 [==============================] - 1s 111us/step - loss: 0.1327 - acc: 0.9654 - val_loss: 0.6888 - val_acc: 0.7343\n",
      "Epoch 37/50\n",
      "8000/8000 [==============================] - 1s 111us/step - loss: 0.1301 - acc: 0.9663 - val_loss: 0.7124 - val_acc: 0.7271\n",
      "Epoch 38/50\n",
      "8000/8000 [==============================] - 1s 107us/step - loss: 0.1224 - acc: 0.9694 - val_loss: 0.7071 - val_acc: 0.7319\n",
      "Epoch 39/50\n",
      "8000/8000 [==============================] - 1s 114us/step - loss: 0.1123 - acc: 0.9759 - val_loss: 0.7154 - val_acc: 0.7301\n",
      "Epoch 40/50\n",
      "8000/8000 [==============================] - 1s 108us/step - loss: 0.1092 - acc: 0.9755 - val_loss: 0.7537 - val_acc: 0.7242\n",
      "Epoch 41/50\n",
      "8000/8000 [==============================] - 1s 109us/step - loss: 0.1056 - acc: 0.9770 - val_loss: 0.7975 - val_acc: 0.7248\n",
      "Epoch 42/50\n",
      "8000/8000 [==============================] - 1s 106us/step - loss: 0.0983 - acc: 0.9820 - val_loss: 0.7508 - val_acc: 0.7333\n",
      "Epoch 43/50\n",
      "8000/8000 [==============================] - 1s 109us/step - loss: 0.0923 - acc: 0.9844 - val_loss: 0.7728 - val_acc: 0.7268\n",
      "Epoch 44/50\n",
      "8000/8000 [==============================] - 1s 108us/step - loss: 0.0877 - acc: 0.9844 - val_loss: 0.7813 - val_acc: 0.7309\n",
      "Epoch 45/50\n",
      "8000/8000 [==============================] - 1s 108us/step - loss: 0.0848 - acc: 0.9854 - val_loss: 0.7890 - val_acc: 0.7344\n",
      "Epoch 46/50\n",
      "8000/8000 [==============================] - 1s 106us/step - loss: 0.0829 - acc: 0.9846 - val_loss: 0.8096 - val_acc: 0.7251\n",
      "Epoch 47/50\n",
      "8000/8000 [==============================] - 1s 106us/step - loss: 0.0716 - acc: 0.9911 - val_loss: 0.8205 - val_acc: 0.7246\n",
      "Epoch 48/50\n",
      "8000/8000 [==============================] - 1s 117us/step - loss: 0.0688 - acc: 0.9915 - val_loss: 0.8444 - val_acc: 0.7303\n",
      "Epoch 49/50\n",
      "8000/8000 [==============================] - 1s 109us/step - loss: 0.0635 - acc: 0.9921 - val_loss: 0.8439 - val_acc: 0.7305\n",
      "Epoch 50/50\n",
      "8000/8000 [==============================] - 1s 116us/step - loss: 0.0609 - acc: 0.9931 - val_loss: 0.8553 - val_acc: 0.7295\n"
     ]
    }
   ],
   "source": [
    "train_size = 8000\n",
    "history = model_dense.fit(training_set[:train_size,:,:,:],training_classes[:train_size,:],\n",
    "                          batch_size=32,epochs=50,shuffle=True,verbose=1, \n",
    "                          validation_data=(validation_set, validation_classes))"
   ]
  },
  {
   "cell_type": "code",
   "execution_count": 9,
   "metadata": {},
   "outputs": [
    {
     "name": "stdout",
     "output_type": "stream",
     "text": [
      "10000/10000 [==============================] - 0s 27us/step\n",
      "Validation Error rate= 27.049999999999997 %\n"
     ]
    }
   ],
   "source": [
    "res_test = model_dense.evaluate(validation_set,validation_classes,batch_size=32)\n",
    "print('Validation Error rate=',(1-res_test[1])*100,'%')"
   ]
  },
  {
   "cell_type": "code",
   "execution_count": 10,
   "metadata": {},
   "outputs": [
    {
     "name": "stdout",
     "output_type": "stream",
     "text": [
      "8000/8000 [==============================] - 0s 25us/step\n",
      "Train Error rate= 0.4375000000000018 %\n"
     ]
    }
   ],
   "source": [
    "res_train = model_dense.evaluate(training_set[:train_size,:,:,:],training_classes[:train_size,:])\n",
    "print('Train Error rate=',(1-res_train[1])*100,'%')"
   ]
  },
  {
   "cell_type": "code",
   "execution_count": 11,
   "metadata": {},
   "outputs": [
    {
     "data": {
      "image/png": "[encoded data removed]",
      "text/plain": [
       "<Figure size 432x288 with 1 Axes>"
      ]
     },
     "metadata": {
      "needs_background": "light"
     },
     "output_type": "display_data"
    }
   ],
   "source": [
    "plt.plot(history.history['loss'],'b')\n",
    "plt.plot(history.history['val_loss'],'r')\n",
    "plt.title('model loss')\n",
    "plt.ylabel('error rate')\n",
    "plt.xlabel('epoch')\n",
    "plt.legend(['training', 'validation'], loc='best')\n",
    "plt.show()"
   ]
  },
  {
   "cell_type": "markdown",
   "metadata": {},
   "source": [
    "The graph above shows clearly that there is overfitting in the model. \n",
    "As the error rate for training set decreases with number of epochs but the error rate for the validation set first decreases to a minimum value and then increases gradualy with increase in the number of epochs.\n",
    "\n",
    "##### Validation Error rate= 27.049999999999997 %\n",
    "##### Train Error rate= 0.4375000000000018 %"
   ]
  },
  {
   "cell_type": "markdown",
   "metadata": {},
   "source": [
    "### 2.  Regularisation experiment:  \n",
    "\n",
    "Now select a type of regularisation (which may be L2, L1, L12, or dropout) and train your initial model with different amounts of regularisation. \n",
    "\n",
    "A small amount of regularisation may improve the validation set performance of your overfitted model; too much regularisation may make performance on the validation set worse. \n",
    "\n",
    "Train your model multiple times, applying different amounts of regularisation, and plot a graoph showing the effect of different amounts of regularisation. \n",
    "\n",
    "Plot the amount of regularisation along the x axis, and the validation set performance (loss/error-rate) on the y axis.  How does regularisation affect the performance of your initial network, and what is the optimal amount? "
   ]
  },
  {
   "cell_type": "code",
   "execution_count": 13,
   "metadata": {},
   "outputs": [
    {
     "name": "stdout",
     "output_type": "stream",
     "text": [
      "Error rate with L2-regularization( 0.1 )=\n",
      "Validation Error rate= 48.4 %\n",
      "Train Error rate= 47.35 %\n",
      "\n",
      "Error rate with L2-regularization( 0.01 )=\n",
      "Validation Error rate= 27.93 %\n",
      "Train Error rate= 28.049999999999997 %\n",
      "\n",
      "Error rate with L2-regularization( 0.001 )=\n",
      "Validation Error rate= 26.349999999999994 %\n",
      "Train Error rate= 11.650000000000006 %\n",
      "\n",
      "Error rate with L2-regularization( 0.0001 )=\n",
      "Validation Error rate= 26.780000000000005 %\n",
      "Train Error rate= 2.4249999999999994 %\n",
      "\n",
      "Error rate with L2-regularization( 1e-05 )=\n",
      "Validation Error rate= 27.339999999999996 %\n",
      "Train Error rate= 0.7125000000000048 %\n",
      "\n",
      "Error rate with L2-regularization( 1e-06 )=\n",
      "Validation Error rate= 26.74 %\n",
      "Train Error rate= 0.31250000000000444 %\n",
      "\n"
     ]
    }
   ],
   "source": [
    "# Performing L2 regularization with different values of lambda\n",
    "l2_val = [0.1,0.01,0.001,0.0001,0.00001,0.000001]\n",
    "loss_val = []\n",
    "\n",
    "for i in l2_val:\n",
    "    model_dense = Sequential()\n",
    "    model_dense.add(Flatten(input_shape=(8,8,1))) # converts each image to a 1D array of values\n",
    "    model_dense.add(Dense(300,activation='relu',kernel_regularizer=l2(i)))\n",
    "    model_dense.add(Dense(1,activation='sigmoid',kernel_regularizer=l2(i)))\n",
    "    model_dense.compile(optimizer='adam',loss='binary_crossentropy',metrics=['accuracy'])\n",
    "    \n",
    "    train_size = 8000\n",
    "    history = model_dense.fit(training_set[:train_size,:,:,:],training_classes[:train_size,:],\n",
    "                          batch_size=32,epochs=50,shuffle=True,verbose=0, \n",
    "                          validation_data=(validation_set, validation_classes))\n",
    "    \n",
    "    \n",
    "    print('Error rate with L2-regularization(',i,')=')\n",
    "    res_test = model_dense.evaluate(validation_set,validation_classes,batch_size=32,verbose=0)\n",
    "    print('Validation Error rate=',(1-res_test[1])*100,'%')\n",
    "    loss_val.append((1-res_test[1])*100)\n",
    "    res_train = model_dense.evaluate(training_set[:train_size,:,:,:],training_classes[:train_size,:],verbose=0)\n",
    "    print('Train Error rate=',(1-res_train[1])*100,'%')\n",
    "    print()"
   ]
  },
  {
   "cell_type": "code",
   "execution_count": 14,
   "metadata": {},
   "outputs": [
    {
     "data": {
      "text/plain": [
       "[48.4,\n",
       " 27.93,\n",
       " 26.349999999999994,\n",
       " 26.780000000000005,\n",
       " 27.339999999999996,\n",
       " 26.74]"
      ]
     },
     "execution_count": 14,
     "metadata": {},
     "output_type": "execute_result"
    }
   ],
   "source": [
    "loss_val"
   ]
  },
  {
   "cell_type": "code",
   "execution_count": 16,
   "metadata": {},
   "outputs": [
    {
     "data": {
      "text/plain": [
       "Text(0.5,0,'regularisation amount')"
      ]
     },
     "execution_count": 16,
     "metadata": {},
     "output_type": "execute_result"
    },
    {
     "data": {
      "image/png": "[encoded data removed]",
      "text/plain": [
       "<Figure size 432x288 with 1 Axes>"
      ]
     },
     "metadata": {
      "needs_background": "light"
     },
     "output_type": "display_data"
    }
   ],
   "source": [
    "plt.loglog(l2_val,loss_val)\n",
    "plt.title('validation error rate vs regularisation')\n",
    "plt.ylabel('validation error rate(%)')\n",
    "plt.xlabel('regularisation amount')"
   ]
  },
  {
   "cell_type": "markdown",
   "metadata": {},
   "source": [
    "#### As seen from the graph above the validation error rate is minimum at Lambda= 0.001. Therefore using 0.001 for choosing the training size in section 3."
   ]
  },
  {
   "cell_type": "markdown",
   "metadata": {},
   "source": [
    "### 3.  Learning curve experiment:  \n",
    "\n",
    "Now train your model (with the amount of regularisation you selected) on different amounts of training data. \n",
    "\n",
    "Plot the performance (loss/error-rate) of the model on the validation set against the size of the training set. \n",
    "This is typically best done on a log-log plot. \n",
    "\n",
    "Describe the approximate relationship between the training set size and loss / error-rate.  Does the network performance appear to improve as some power of the amount of data in the training set?  If so, by what power ? \n",
    "\n",
    "For example, a very good rate of improvement is for error-rate to be proportional to $\\dfrac{1}{\\sqrt{n}}$ where $n$ is the training set size.  For your model, the rate of improvement of validation error with training set size may not be as fast as this (or it may, who knows?)  The aim of this exercise is to find out what it actually is. "
   ]
  },
  {
   "cell_type": "code",
   "execution_count": 17,
   "metadata": {},
   "outputs": [
    {
     "name": "stdout",
     "output_type": "stream",
     "text": [
      "Error rate with Training size( 2000 )=\n",
      "Validation Error rate= 31.35 %\n",
      "Train Error rate= 23.750000000000004 %\n",
      "\n",
      "Error rate with Training size( 4000 )=\n",
      "Validation Error rate= 28.810000000000002 %\n",
      "Train Error rate= 17.062500000000004 %\n",
      "\n",
      "Error rate with Training size( 8000 )=\n",
      "Validation Error rate= 27.1 %\n",
      "Train Error rate= 12.8 %\n",
      "\n",
      "Error rate with Training size( 16000 )=\n",
      "Validation Error rate= 26.049999999999997 %\n",
      "Train Error rate= 17.774999999999995 %\n",
      "\n",
      "Error rate with Training size( 32000 )=\n",
      "Validation Error rate= 26.459999999999994 %\n",
      "Train Error rate= 21.662499999999994 %\n",
      "\n"
     ]
    }
   ],
   "source": [
    "# Learning curve with regularization=0.001\n",
    "train_size_val = [2000,4000,8000,16000,32000]\n",
    "loss_val = []\n",
    "\n",
    "for i in train_size_val:\n",
    "    model_dense = Sequential()\n",
    "    model_dense.add(Flatten(input_shape=(8,8,1))) # converts each image to a 1D array of values\n",
    "    model_dense.add(Dense(300,activation='relu',kernel_regularizer=l2(0.001)))\n",
    "    model_dense.add(Dense(1,activation='sigmoid',kernel_regularizer=l2(0.001)))\n",
    "    model_dense.compile(optimizer='adam',loss='binary_crossentropy',metrics=['accuracy'])\n",
    "    \n",
    "    history = model_dense.fit(training_set[:i,:,:,:],training_classes[:i,:],\n",
    "                          batch_size=32,epochs=50,shuffle=True,verbose=0, \n",
    "                          validation_data=(validation_set, validation_classes))\n",
    "    \n",
    "    \n",
    "    print('Error rate with Training size(',i,')=')\n",
    "    res_test = model_dense.evaluate(validation_set,validation_classes,batch_size=32,verbose=0)\n",
    "    print('Validation Error rate=',(1-res_test[1])*100,'%')\n",
    "    loss_val.append((1-res_test[1])*100)\n",
    "    res_train = model_dense.evaluate(training_set[:train_size,:,:,:],training_classes[:train_size,:],verbose=0)\n",
    "    print('Train Error rate=',(1-res_train[1])*100,'%')\n",
    "    print()"
   ]
  },
  {
   "cell_type": "code",
   "execution_count": 21,
   "metadata": {},
   "outputs": [
    {
     "data": {
      "text/plain": [
       "Text(0.5,0,'train size')"
      ]
     },
     "execution_count": 21,
     "metadata": {},
     "output_type": "execute_result"
    },
    {
     "data": {
      "image/png": "[encoded data removed]",
      "text/plain": [
       "<Figure size 432x288 with 1 Axes>"
      ]
     },
     "metadata": {
      "needs_background": "light"
     },
     "output_type": "display_data"
    }
   ],
   "source": [
    "plt.plot(train_size_val,loss_val)\n",
    "plt.title('Validation Error Rate vs Training Size')\n",
    "plt.ylabel('validation error rate(%)')\n",
    "plt.xlabel('train size')"
   ]
  },
  {
   "cell_type": "markdown",
   "metadata": {},
   "source": [
    "From the graph above it is evident that the error rate is least when the training size=16000"
   ]
  },
  {
   "cell_type": "markdown",
   "metadata": {},
   "source": [
    "### 4. Second model:   \n",
    "\n",
    "Devise what you believe to be a better neural network architecture for the problem (e.g. for MNIST you might use a fully-connected network for your initial model, and then try a convolutional net for your second model).\n",
    "\n",
    "Repeat sections 2 (regularisation experiment), and determine whether it has better validation set performance than the first model, for an intermediate size of training set (e.g. 2000 or 4000 for the MNIST data). \n",
    "\n",
    "Repeat section 3. Does your model have a different learning curve from the first? Plot the learning curves for the first and second model on the same graph, to compare them. Comment: is there a more rapid reduction of error-rate with training set size for your second model?  "
   ]
  },
  {
   "cell_type": "markdown",
   "metadata": {},
   "source": [
    "# Complex model with CNN"
   ]
  },
  {
   "cell_type": "code",
   "execution_count": 22,
   "metadata": {},
   "outputs": [],
   "source": [
    "model = Sequential()\n",
    "model.add(Conv2D(36,(3,3),activation='relu',padding='same',input_shape=(8,8,1)))\n",
    "model.add(Conv2D(36,(1,1),activation='relu',padding='same'))\n",
    "#model.add(Dropout(0.1))\n",
    "model.add(Conv2D(48,(3,3),activation='relu',padding='valid')) # reduces the grid size to 6x6\n",
    "#model.add(Dropout(0.25))\n",
    "model.add(Conv2D(48,(3,3),activation='relu',padding='valid')) # reduces the grid size to 4x4\n",
    "#model.add(Dropout(0.25))\n",
    "model.add(Conv2D(96,(3,3),activation='relu',padding='valid')) # reduces the grid size to 2x2\n",
    "#model.add(Dropout(0.25))\n",
    "model.add(Flatten()) # transforms layout to all 4x36=144 neurons to a line\n",
    "model.add(Dense(20,activation='relu'))  # 20 neurons each connected to all 144 previous neurons\n",
    "model.add(Dense(20,activation='relu'))  # 20 neurons each connsected to all 20 previous neurons\n",
    "model.add(Dense(1,activation='sigmoid')) \n",
    "# one single logistic output neuron giving estimated probability of percolation"
   ]
  },
  {
   "cell_type": "code",
   "execution_count": 23,
   "metadata": {},
   "outputs": [
    {
     "name": "stdout",
     "output_type": "stream",
     "text": [
      "_________________________________________________________________\n",
      "Layer (type)                 Output Shape              Param #   \n",
      "=================================================================\n",
      "conv2d (Conv2D)              (None, 8, 8, 36)          360       \n",
      "_________________________________________________________________\n",
      "conv2d_1 (Conv2D)            (None, 8, 8, 36)          1332      \n",
      "_________________________________________________________________\n",
      "conv2d_2 (Conv2D)            (None, 6, 6, 48)          15600     \n",
      "_________________________________________________________________\n",
      "conv2d_3 (Conv2D)            (None, 4, 4, 48)          20784     \n",
      "_________________________________________________________________\n",
      "conv2d_4 (Conv2D)            (None, 2, 2, 96)          41568     \n",
      "_________________________________________________________________\n",
      "flatten_18 (Flatten)         (None, 384)               0         \n",
      "_________________________________________________________________\n",
      "dense_36 (Dense)             (None, 20)                7700      \n",
      "_________________________________________________________________\n",
      "dense_37 (Dense)             (None, 20)                420       \n",
      "_________________________________________________________________\n",
      "dense_38 (Dense)             (None, 1)                 21        \n",
      "=================================================================\n",
      "Total params: 87,785\n",
      "Trainable params: 87,785\n",
      "Non-trainable params: 0\n",
      "_________________________________________________________________\n",
      "Train on 8000 samples, validate on 10000 samples\n",
      "Epoch 1/50\n",
      "8000/8000 [==============================] - 4s 479us/step - loss: 0.5787 - acc: 0.6801 - val_loss: 0.4812 - val_acc: 0.7691\n",
      "Epoch 2/50\n",
      "8000/8000 [==============================] - 2s 217us/step - loss: 0.3421 - acc: 0.8498 - val_loss: 0.2322 - val_acc: 0.9013\n",
      "Epoch 3/50\n",
      "8000/8000 [==============================] - 2s 230us/step - loss: 0.1927 - acc: 0.9190 - val_loss: 0.1308 - val_acc: 0.9486\n",
      "Epoch 4/50\n",
      "8000/8000 [==============================] - 2s 228us/step - loss: 0.1137 - acc: 0.9563 - val_loss: 0.1460 - val_acc: 0.9441\n",
      "Epoch 5/50\n",
      "8000/8000 [==============================] - 2s 225us/step - loss: 0.0680 - acc: 0.9733 - val_loss: 0.0641 - val_acc: 0.9744\n",
      "Epoch 6/50\n",
      "8000/8000 [==============================] - 2s 226us/step - loss: 0.0457 - acc: 0.9832 - val_loss: 0.0591 - val_acc: 0.9771\n",
      "Epoch 7/50\n",
      "8000/8000 [==============================] - 2s 215us/step - loss: 0.0333 - acc: 0.9885 - val_loss: 0.0368 - val_acc: 0.9859\n",
      "Epoch 8/50\n",
      "8000/8000 [==============================] - 2s 230us/step - loss: 0.0197 - acc: 0.9934 - val_loss: 0.0349 - val_acc: 0.9874\n",
      "Epoch 9/50\n",
      "8000/8000 [==============================] - 2s 223us/step - loss: 0.0215 - acc: 0.9925 - val_loss: 0.0330 - val_acc: 0.9877\n",
      "Epoch 10/50\n",
      "8000/8000 [==============================] - 2s 217us/step - loss: 0.0134 - acc: 0.9957 - val_loss: 0.0523 - val_acc: 0.9807\n",
      "Epoch 11/50\n",
      "8000/8000 [==============================] - 2s 214us/step - loss: 0.0115 - acc: 0.9956 - val_loss: 0.0291 - val_acc: 0.9891\n",
      "Epoch 12/50\n",
      "8000/8000 [==============================] - 2s 213us/step - loss: 0.0019 - acc: 0.9995 - val_loss: 0.0310 - val_acc: 0.9898\n",
      "Epoch 13/50\n",
      "8000/8000 [==============================] - 2s 230us/step - loss: 4.3878e-04 - acc: 1.0000 - val_loss: 0.0251 - val_acc: 0.9915\n",
      "Epoch 14/50\n",
      "8000/8000 [==============================] - 2s 223us/step - loss: 1.4012e-04 - acc: 1.0000 - val_loss: 0.0247 - val_acc: 0.9921\n",
      "Epoch 15/50\n",
      "8000/8000 [==============================] - 2s 223us/step - loss: 8.0644e-05 - acc: 1.0000 - val_loss: 0.0252 - val_acc: 0.9922\n",
      "Epoch 16/50\n",
      "8000/8000 [==============================] - 2s 227us/step - loss: 5.8323e-05 - acc: 1.0000 - val_loss: 0.0264 - val_acc: 0.9922\n",
      "Epoch 17/50\n",
      "8000/8000 [==============================] - 2s 221us/step - loss: 4.4849e-05 - acc: 1.0000 - val_loss: 0.0271 - val_acc: 0.9921\n",
      "Epoch 18/50\n",
      "8000/8000 [==============================] - 2s 221us/step - loss: 3.4978e-05 - acc: 1.0000 - val_loss: 0.0274 - val_acc: 0.9922\n",
      "Epoch 19/50\n",
      "8000/8000 [==============================] - 2s 219us/step - loss: 2.8427e-05 - acc: 1.0000 - val_loss: 0.0287 - val_acc: 0.9923\n",
      "Epoch 20/50\n",
      "8000/8000 [==============================] - 2s 230us/step - loss: 2.3342e-05 - acc: 1.0000 - val_loss: 0.0289 - val_acc: 0.9923\n",
      "Epoch 21/50\n",
      "8000/8000 [==============================] - 2s 222us/step - loss: 1.8750e-05 - acc: 1.0000 - val_loss: 0.0295 - val_acc: 0.9920\n",
      "Epoch 22/50\n",
      "8000/8000 [==============================] - 2s 226us/step - loss: 1.5354e-05 - acc: 1.0000 - val_loss: 0.0306 - val_acc: 0.9922\n",
      "Epoch 23/50\n",
      "8000/8000 [==============================] - 2s 226us/step - loss: 1.2497e-05 - acc: 1.0000 - val_loss: 0.0308 - val_acc: 0.9922\n",
      "Epoch 24/50\n",
      "8000/8000 [==============================] - 2s 219us/step - loss: 1.0871e-05 - acc: 1.0000 - val_loss: 0.0321 - val_acc: 0.9920\n",
      "Epoch 25/50\n",
      "8000/8000 [==============================] - 2s 217us/step - loss: 9.4334e-06 - acc: 1.0000 - val_loss: 0.0314 - val_acc: 0.9918\n",
      "Epoch 26/50\n",
      "8000/8000 [==============================] - 2s 225us/step - loss: 8.0629e-06 - acc: 1.0000 - val_loss: 0.0326 - val_acc: 0.9919\n",
      "Epoch 27/50\n",
      "8000/8000 [==============================] - 2s 221us/step - loss: 6.7813e-06 - acc: 1.0000 - val_loss: 0.0323 - val_acc: 0.9919\n",
      "Epoch 28/50\n",
      "8000/8000 [==============================] - 2s 222us/step - loss: 5.7485e-06 - acc: 1.0000 - val_loss: 0.0331 - val_acc: 0.9920\n",
      "Epoch 29/50\n",
      "8000/8000 [==============================] - 2s 231us/step - loss: 4.8908e-06 - acc: 1.0000 - val_loss: 0.0335 - val_acc: 0.9918\n",
      "Epoch 30/50\n",
      "8000/8000 [==============================] - 2s 222us/step - loss: 4.1821e-06 - acc: 1.0000 - val_loss: 0.0335 - val_acc: 0.9920\n",
      "Epoch 31/50\n",
      "8000/8000 [==============================] - 2s 225us/step - loss: 3.5462e-06 - acc: 1.0000 - val_loss: 0.0350 - val_acc: 0.9918\n",
      "Epoch 32/50\n",
      "8000/8000 [==============================] - 2s 223us/step - loss: 3.0985e-06 - acc: 1.0000 - val_loss: 0.0346 - val_acc: 0.9919\n",
      "Epoch 33/50\n",
      "8000/8000 [==============================] - 2s 220us/step - loss: 2.6847e-06 - acc: 1.0000 - val_loss: 0.0356 - val_acc: 0.9917\n",
      "Epoch 34/50\n",
      "8000/8000 [==============================] - 2s 216us/step - loss: 2.3345e-06 - acc: 1.0000 - val_loss: 0.0363 - val_acc: 0.9917\n",
      "Epoch 35/50\n",
      "8000/8000 [==============================] - 2s 226us/step - loss: 2.0030e-06 - acc: 1.0000 - val_loss: 0.0364 - val_acc: 0.9916\n",
      "Epoch 36/50\n",
      "8000/8000 [==============================] - 2s 218us/step - loss: 1.7478e-06 - acc: 1.0000 - val_loss: 0.0366 - val_acc: 0.9916\n",
      "Epoch 37/50\n",
      "8000/8000 [==============================] - 2s 221us/step - loss: 1.5240e-06 - acc: 1.0000 - val_loss: 0.0373 - val_acc: 0.9917\n",
      "Epoch 38/50\n",
      "8000/8000 [==============================] - 2s 224us/step - loss: 1.3149e-06 - acc: 1.0000 - val_loss: 0.0371 - val_acc: 0.9916\n",
      "Epoch 39/50\n",
      "8000/8000 [==============================] - 2s 224us/step - loss: 1.1524e-06 - acc: 1.0000 - val_loss: 0.0373 - val_acc: 0.9917\n",
      "Epoch 40/50\n",
      "8000/8000 [==============================] - 2s 225us/step - loss: 9.9689e-07 - acc: 1.0000 - val_loss: 0.0393 - val_acc: 0.9913\n",
      "Epoch 41/50\n",
      "8000/8000 [==============================] - 2s 218us/step - loss: 8.6023e-07 - acc: 1.0000 - val_loss: 0.0400 - val_acc: 0.9913\n",
      "Epoch 42/50\n",
      "8000/8000 [==============================] - 2s 228us/step - loss: 7.7830e-07 - acc: 1.0000 - val_loss: 0.0392 - val_acc: 0.9915\n",
      "Epoch 43/50\n",
      "8000/8000 [==============================] - 2s 221us/step - loss: 6.7313e-07 - acc: 1.0000 - val_loss: 0.0397 - val_acc: 0.9916\n",
      "Epoch 44/50\n",
      "8000/8000 [==============================] - 2s 219us/step - loss: 5.9163e-07 - acc: 1.0000 - val_loss: 0.0402 - val_acc: 0.9914\n",
      "Epoch 45/50\n",
      "8000/8000 [==============================] - 2s 226us/step - loss: 5.2794e-07 - acc: 1.0000 - val_loss: 0.0416 - val_acc: 0.9912\n",
      "Epoch 46/50\n",
      "8000/8000 [==============================] - 2s 220us/step - loss: 4.7670e-07 - acc: 1.0000 - val_loss: 0.0405 - val_acc: 0.9913\n",
      "Epoch 47/50\n",
      "8000/8000 [==============================] - 2s 219us/step - loss: 4.3377e-07 - acc: 1.0000 - val_loss: 0.0414 - val_acc: 0.9915\n",
      "Epoch 48/50\n",
      "8000/8000 [==============================] - 2s 225us/step - loss: 3.7646e-07 - acc: 1.0000 - val_loss: 0.0412 - val_acc: 0.9914\n",
      "Epoch 49/50\n",
      "8000/8000 [==============================] - 2s 218us/step - loss: 3.4084e-07 - acc: 1.0000 - val_loss: 0.0433 - val_acc: 0.9914\n",
      "Epoch 50/50\n",
      "8000/8000 [==============================] - 2s 221us/step - loss: 3.0796e-07 - acc: 1.0000 - val_loss: 0.0425 - val_acc: 0.9915\n"
     ]
    }
   ],
   "source": [
    "model.summary()\n",
    "sgd = SGD(lr=0.01, decay=1e-6,momentum=0.9, nesterov=True)\n",
    "model.compile(optimizer='adam',loss='binary_crossentropy',metrics=['accuracy'])\n",
    "train_size = 8000\n",
    "history = model.fit(training_set[:train_size,:,:,:],training_classes[:train_size,:],\n",
    "                          batch_size=32,epochs=50,shuffle=True,verbose=1, \n",
    "                          validation_data=(validation_set, validation_classes))"
   ]
  },
  {
   "cell_type": "code",
   "execution_count": 24,
   "metadata": {},
   "outputs": [
    {
     "name": "stdout",
     "output_type": "stream",
     "text": [
      "10000/10000 [==============================] - 0s 43us/step\n",
      "Validation Error rate= 0.8499999999999952 %\n",
      "8000/8000 [==============================] - 0s 39us/step\n",
      "Train Error rate= 0.0 %\n"
     ]
    },
    {
     "data": {
      "image/png": "[encoded data removed]",
      "text/plain": [
       "<Figure size 432x288 with 1 Axes>"
      ]
     },
     "metadata": {
      "needs_background": "light"
     },
     "output_type": "display_data"
    }
   ],
   "source": [
    "res_test = model.evaluate(validation_set,validation_classes,batch_size=32)\n",
    "print('Validation Error rate=',(1-res_test[1])*100,'%')\n",
    "res_train = model.evaluate(training_set[:train_size,:,:,:],training_classes[:train_size,:])\n",
    "print('Train Error rate=',(1-res_train[1])*100,'%')\n",
    "plt.plot(history.history['loss'],'b')\n",
    "plt.plot(history.history['val_loss'],'r')\n",
    "plt.title('model loss')\n",
    "plt.ylabel('error rate')\n",
    "plt.xlabel('epoch')\n",
    "plt.legend(['training', 'validation'], loc='best')\n",
    "plt.show()"
   ]
  },
  {
   "cell_type": "markdown",
   "metadata": {},
   "source": [
    "Really good model, doesn't overfits as seen from the graph above"
   ]
  },
  {
   "cell_type": "code",
   "execution_count": 28,
   "metadata": {},
   "outputs": [
    {
     "name": "stdout",
     "output_type": "stream",
     "text": [
      "Error rate with L2-regularization( 0.1 )=\n",
      "Validation Error rate= 48.4 %\n",
      "Train Error rate= 47.35 %\n",
      "\n",
      "Error rate with L2-regularization( 0.01 )=\n",
      "Validation Error rate= 48.4 %\n",
      "Train Error rate= 47.35 %\n",
      "\n",
      "Error rate with L2-regularization( 0.001 )=\n",
      "Validation Error rate= 1.1299999999999977 %\n",
      "Train Error rate= 0.5249999999999977 %\n",
      "\n",
      "Error rate with L2-regularization( 0.0001 )=\n",
      "Validation Error rate= 0.42999999999999705 %\n",
      "Train Error rate= 0.03750000000000142 %\n",
      "\n",
      "Error rate with L2-regularization( 1e-05 )=\n",
      "Validation Error rate= 0.47000000000000375 %\n",
      "Train Error rate= 0.0 %\n",
      "\n",
      "Error rate with L2-regularization( 1e-06 )=\n",
      "Validation Error rate= 0.5900000000000016 %\n",
      "Train Error rate= 0.04999999999999449 %\n",
      "\n"
     ]
    }
   ],
   "source": [
    "# L2 regularization & dropout\n",
    "l2_val = [0.1,0.01,0.001,0.0001,0.00001,0.000001]\n",
    "loss_val = []\n",
    "\n",
    "for i in l2_val:\n",
    "    model = Sequential()\n",
    "    model.add(Conv2D(36,(3,3),activation='relu',padding='same',input_shape=(8,8,1), kernel_regularizer=l2(i)))\n",
    "    model.add(Conv2D(36,(1,1),activation='relu',padding='same', kernel_regularizer=l2(i)))\n",
    "    #model.add(Dropout(0.1))\n",
    "    model.add(Conv2D(48,(3,3),activation='relu',padding='valid', kernel_regularizer=l2(i))) # reduces the grid size to 6x6\n",
    "    model.add(Dropout(0.25))\n",
    "    model.add(Conv2D(48,(3,3),activation='relu',padding='valid', kernel_regularizer=l2(i))) # reduces the grid size to 4x4\n",
    "    model.add(Dropout(0.25))\n",
    "    model.add(Conv2D(96,(3,3),activation='relu',padding='valid', kernel_regularizer=l2(i))) # reduces the grid size to 2x2\n",
    "    model.add(Dropout(0.25))\n",
    "    model.add(Flatten()) # transforms layout to all 4x36=144 neurons to a line\n",
    "    model.add(Dense(20,activation='relu',kernel_regularizer=l2(i)))  # 20 neurons each connected to all 144 previous neurons\n",
    "    model.add(Dense(20,activation='relu',kernel_regularizer=l2(i)))  # 20 neurons each connsected to all 20 previous neurons\n",
    "    model.add(Dense(1,activation='sigmoid')) \n",
    "    #model.summary()\n",
    "    sgd = SGD(lr=0.01, decay=1e-6,momentum=0.9, nesterov=True)\n",
    "    model.compile(optimizer='adam',loss='binary_crossentropy',metrics=['accuracy'])\n",
    "    train_size = 8000\n",
    "    history = model.fit(training_set[:train_size,:,:,:],training_classes[:train_size,:],\n",
    "                          batch_size=32,epochs=50,shuffle=True,verbose=0, \n",
    "                          validation_data=(validation_set, validation_classes))\n",
    "    \n",
    "    \n",
    "    print('Error rate with L2-regularization(',i,')=')\n",
    "    res_test = model.evaluate(validation_set,validation_classes,batch_size=32,verbose=0)\n",
    "    print('Validation Error rate=',(1-res_test[1])*100,'%')\n",
    "    loss_val.append((1-res_test[1])*100)\n",
    "    res_train = model.evaluate(training_set[:train_size,:,:,:],training_classes[:train_size,:],verbose=0)\n",
    "    print('Train Error rate=',(1-res_train[1])*100,'%')\n",
    "    print()"
   ]
  },
  {
   "cell_type": "code",
   "execution_count": 29,
   "metadata": {},
   "outputs": [
    {
     "data": {
      "text/plain": [
       "Text(0.5,0,'regularisation amount')"
      ]
     },
     "execution_count": 29,
     "metadata": {},
     "output_type": "execute_result"
    },
    {
     "data": {
      "image/png": "[encoded data removed]",
      "text/plain": [
       "<Figure size 432x288 with 1 Axes>"
      ]
     },
     "metadata": {
      "needs_background": "light"
     },
     "output_type": "display_data"
    }
   ],
   "source": [
    "plt.loglog(l2_val,loss_val)\n",
    "plt.title('validation error rate vs regularisation')\n",
    "plt.ylabel('validation error rate(%)')\n",
    "plt.xlabel('regularisation amount')"
   ]
  },
  {
   "cell_type": "markdown",
   "metadata": {},
   "source": [
    "Selecting Lambda=0.00001"
   ]
  },
  {
   "cell_type": "code",
   "execution_count": 32,
   "metadata": {},
   "outputs": [
    {
     "name": "stdout",
     "output_type": "stream",
     "text": [
      "Error rate with Training size( 2000 )=\n",
      "Validation Error rate= 28.63 %\n",
      "Train Error rate= 18.275 %\n",
      "\n",
      "Error rate with Training size( 4000 )=\n",
      "Validation Error rate= 28.720000000000002 %\n",
      "Train Error rate= 14.312499999999995 %\n",
      "\n",
      "Error rate with Training size( 8000 )=\n",
      "Validation Error rate= 26.900000000000002 %\n",
      "Train Error rate= 8.387500000000003 %\n",
      "\n",
      "Error rate with Training size( 16000 )=\n",
      "Validation Error rate= 26.400000000000002 %\n",
      "Train Error rate= 14.825 %\n",
      "\n",
      "Error rate with Training size( 32000 )=\n",
      "Validation Error rate= 27.71 %\n",
      "Train Error rate= 23.5375 %\n",
      "\n"
     ]
    }
   ],
   "source": [
    "# Learning curve\n",
    "train_size_val = [2000,4000,8000,16000,32000]\n",
    "loss_val = []\n",
    "\n",
    "for i in train_size_val:\n",
    "    model = Sequential()\n",
    "    model.add(Conv2D(36,(3,3),activation='relu',padding='same',input_shape=(8,8,1), kernel_regularizer=l2(0.00001)))\n",
    "    model.add(Conv2D(36,(1,1),activation='relu',padding='same', kernel_regularizer=l2(0.00001)))\n",
    "    #model.add(Dropout(0.1))\n",
    "    model.add(Conv2D(48,(3,3),activation='relu',padding='valid', kernel_regularizer=l2(0.00001))) # reduces the grid size to 6x6\n",
    "    model.add(Dropout(0.25))\n",
    "    model.add(Conv2D(48,(3,3),activation='relu',padding='valid', kernel_regularizer=l2(0.00001))) # reduces the grid size to 4x4\n",
    "    model.add(Dropout(0.25))\n",
    "    model.add(Conv2D(96,(3,3),activation='relu',padding='valid', kernel_regularizer=l2(0.00001))) # reduces the grid size to 2x2\n",
    "    model.add(Dropout(0.25))\n",
    "    model.add(Flatten()) # transforms layout to all 4x36=144 neurons to a line\n",
    "    model.add(Dense(20,activation='relu',kernel_regularizer=l2(0.00001)))  # 20 neurons each connected to all 144 previous neurons\n",
    "    model.add(Dense(20,activation='relu',kernel_regularizer=l2(0.00001)))  # 20 neurons each connsected to all 20 previous neurons\n",
    "    model.add(Dense(1,activation='sigmoid')) \n",
    "    #model.summary()\n",
    "    sgd = SGD(lr=0.01, decay=1e-6,momentum=0.9, nesterov=True)\n",
    "    model.compile(optimizer='adam',loss='binary_crossentropy',metrics=['accuracy'])\n",
    "    \n",
    "    history = model_dense.fit(training_set[:i,:,:,:],training_classes[:i,:],\n",
    "                          batch_size=32,epochs=50,shuffle=True,verbose=0, \n",
    "                          validation_data=(validation_set, validation_classes))\n",
    "    \n",
    "    \n",
    "    print('Error rate with Training size(',i,')=')\n",
    "    res_test = model_dense.evaluate(validation_set,validation_classes,batch_size=32,verbose=0)\n",
    "    print('Validation Error rate=',(1-res_test[1])*100,'%')\n",
    "    loss_val.append((1-res_test[1])*100)\n",
    "    res_train = model_dense.evaluate(training_set[:train_size,:,:,:],training_classes[:train_size,:],verbose=0)\n",
    "    print('Train Error rate=',(1-res_train[1])*100,'%')\n",
    "    print()"
   ]
  },
  {
   "cell_type": "code",
   "execution_count": 33,
   "metadata": {},
   "outputs": [
    {
     "data": {
      "text/plain": [
       "Text(0.5,0,'train size')"
      ]
     },
     "execution_count": 33,
     "metadata": {},
     "output_type": "execute_result"
    },
    {
     "data": {
      "image/png": "[encoded data removed]",
      "text/plain": [
       "<Figure size 432x288 with 1 Axes>"
      ]
     },
     "metadata": {
      "needs_background": "light"
     },
     "output_type": "display_data"
    }
   ],
   "source": [
    "plt.plot(train_size_val,loss_val)\n",
    "plt.title('Validation Error Rate vs Training Size')\n",
    "plt.ylabel('validation error rate(%)')\n",
    "plt.xlabel('train size')"
   ]
  },
  {
   "cell_type": "markdown",
   "metadata": {},
   "source": [
    "Again the error rate is least when the training size=16000. The learning curve is almost similar."
   ]
  }
 ],
 "metadata": {
  "kernelspec": {
   "display_name": "Python 3",
   "language": "python",
   "name": "python3"
  },
  "language_info": {
   "codemirror_mode": {
    "name": "ipython",
    "version": 3
   },
   "file_extension": ".py",
   "mimetype": "text/x-python",
   "name": "python",
   "nbconvert_exporter": "python",
   "pygments_lexer": "ipython3",
   "version": "3.7.1"
  }
 },
 "nbformat": 4,
 "nbformat_minor": 2
}
